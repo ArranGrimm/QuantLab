{
 "cells": [
  {
   "cell_type": "code",
   "execution_count": 1,
   "metadata": {},
   "outputs": [],
   "source": [
    "import pandas as pd"
   ]
  },
  {
   "cell_type": "code",
   "execution_count": 3,
   "metadata": {},
   "outputs": [],
   "source": [
    "v1_res = pd.read_csv('results/BTC_trades.csv')\n",
    "v2_res = pd.read_csv('results/BTC_trades_backtestingpy.csv')\n"
   ]
  },
  {
   "cell_type": "code",
   "execution_count": 5,
   "metadata": {},
   "outputs": [
    {
     "data": {
      "text/plain": [
       "np.float64(315044.9226230075)"
      ]
     },
     "execution_count": 5,
     "metadata": {},
     "output_type": "execute_result"
    }
   ],
   "source": [
    "v1_res.pnl.sum()"
   ]
  },
  {
   "cell_type": "code",
   "execution_count": 10,
   "metadata": {},
   "outputs": [
    {
     "data": {
      "text/plain": [
       "np.float64(307829.89999999997)"
      ]
     },
     "execution_count": 10,
     "metadata": {},
     "output_type": "execute_result"
    }
   ],
   "source": [
    "v2_res.PnL.sum()\n"
   ]
  },
  {
   "cell_type": "code",
   "execution_count": 5,
   "metadata": {},
   "outputs": [
    {
     "name": "stdout",
     "output_type": "stream",
     "text": [
      "              日期     开盘     收盘     最高     最低      成交量          成交额    振幅  \\\n",
      "0     2020-01-02  3.201  3.240  3.243  3.201   160678   51681636.0  1.32   \n",
      "1     2020-01-03  3.270  3.254  3.270  3.233   232830   75798968.0  1.14   \n",
      "2     2020-01-06  3.228  3.212  3.232  3.196   188451   60602918.0  1.11   \n",
      "3     2020-01-07  3.231  3.257  3.280  3.231   187465   60875890.0  1.53   \n",
      "4     2020-01-08  3.226  3.219  3.243  3.194   204366   65796355.0  1.50   \n",
      "...          ...    ...    ...    ...    ...      ...          ...   ...   \n",
      "1289  2025-05-06  1.469  1.457  1.470  1.454  6441272  939843165.0  1.11   \n",
      "1290  2025-05-07  1.463  1.462  1.476  1.459  3423798  501356837.0  1.17   \n",
      "1291  2025-05-08  1.477  1.485  1.486  1.470  4591589  678513366.0  1.09   \n",
      "1292  2025-05-09  1.485  1.486  1.489  1.479  5095210  756114122.0  0.67   \n",
      "1293  2025-05-12  1.513  1.516  1.518  1.506  5584639  844555802.0  0.81   \n",
      "\n",
      "       涨跌幅    涨跌额   换手率  \n",
      "0     1.47  0.047  0.17  \n",
      "1     0.43  0.014  0.25  \n",
      "2    -1.29 -0.042  0.20  \n",
      "3     1.40  0.045  0.20  \n",
      "4    -1.17 -0.038  0.22  \n",
      "...    ...    ...   ...  \n",
      "1289  0.76  0.011  6.78  \n",
      "1290  0.34  0.005  3.60  \n",
      "1291  1.57  0.023  4.83  \n",
      "1292  0.07  0.001  5.36  \n",
      "1293  2.02  0.030  5.88  \n",
      "\n",
      "[1294 rows x 11 columns]\n"
     ]
    }
   ],
   "source": [
    "import akshare as ak\n",
    "\n",
    "fund_etf_hist_em_df = ak.fund_etf_hist_em(symbol=\"513100\", \n",
    "                                          period=\"daily\", \n",
    "                                          start_date=\"20200101\", end_date=\"20250512\", adjust=\"\")\n",
    "print(fund_etf_hist_em_df)"
   ]
  }
 ],
 "metadata": {
  "kernelspec": {
   "display_name": ".venv",
   "language": "python",
   "name": "python3"
  },
  "language_info": {
   "codemirror_mode": {
    "name": "ipython",
    "version": 3
   },
   "file_extension": ".py",
   "mimetype": "text/x-python",
   "name": "python",
   "nbconvert_exporter": "python",
   "pygments_lexer": "ipython3",
   "version": "3.13.1"
  }
 },
 "nbformat": 4,
 "nbformat_minor": 2
}
